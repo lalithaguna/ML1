{
  "nbformat": 4,
  "nbformat_minor": 0,
  "metadata": {
    "colab": {
      "name": "p1.ipynb",
      "version": "0.3.2",
      "provenance": [],
      "collapsed_sections": [],
      "include_colab_link": true
    },
    "kernelspec": {
      "name": "python2",
      "display_name": "Python 2"
    }
  },
  "cells": [
    {
      "cell_type": "markdown",
      "metadata": {
        "id": "view-in-github",
        "colab_type": "text"
      },
      "source": [
        "<a href=\"https://colab.research.google.com/github/lalithaguna/ML1/blob/master/p1.ipynb\" target=\"_parent\"><img src=\"https://colab.research.google.com/assets/colab-badge.svg\" alt=\"Open In Colab\"/></a>"
      ]
    },
    {
      "cell_type": "code",
      "metadata": {
        "id": "rx8MBorpvliv",
        "colab_type": "code",
        "colab": {}
      },
      "source": [
        "# USAGE\n",
        "# python load_display_save.py --image florida_trip.png\n",
        "\n",
        "# import the necessary packages\n",
        "import argparse\n",
        "import cv2\n",
        "\n",
        "# construct the argument parser and parse the arguments\n",
        "ap = argparse.ArgumentParser()\n",
        "ap.add_argument(\"-i\", \"--image\", required=True, help=\"Path to the image\")\n",
        "args = vars(ap.parse_args())\n",
        "\n",
        "# load the image and show some basic information on it\n",
        "image = cv2.imread(\"apj.jpg\")\n",
        "print(\"width: {w} pixels\".format(w=image.shape[1]))\n",
        "print(\"height: {h}  pixels\".format(h=image.shape[0]))\n",
        "print(\"channels: {c}\".format(c=image.shape[2]))\n",
        "\n",
        "# show the image and wait for a keypress\n",
        "cv2.imshow(\"Image\", image)\n",
        "cv2.waitKey(0)\n",
        "\n",
        "# save the image -- OpenCV handles converting filetypes\n",
        "# automatically\n",
        "cv2.imwrite(\"newimage.jpg\", image)\n"
      ],
      "execution_count": 0,
      "outputs": []
    }
  ]
}